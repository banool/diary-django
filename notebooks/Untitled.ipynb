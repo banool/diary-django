{
 "cells": [
  {
   "cell_type": "code",
   "execution_count": 6,
   "metadata": {},
   "outputs": [
    {
     "name": "stdout",
     "output_type": "stream",
     "text": [
      "My test entry\n"
     ]
    }
   ],
   "source": [
    "import pytz\n",
    "\n",
    "from django.utils import timezone\n",
    "from viewer.models import Entry\n",
    "\n",
    "\n",
    "e = Entry(title='My test entry', body='Look what I did today!', original_unix_time=34325235)\n",
    "e.date = timezone.now()\n",
    "print(e)\n",
    "e.save()\n",
    "\n",
    "le = LifeEvent(body='I got a big apple today.', event=e)\n",
    "le.save()"
   ]
  },
  {
   "cell_type": "code",
   "execution_count": null,
   "metadata": {},
   "outputs": [],
   "source": []
  }
 ],
 "metadata": {
  "kernelspec": {
   "display_name": "Django Shell-Plus",
   "language": "python",
   "name": "django_extensions"
  },
  "language_info": {
   "codemirror_mode": {
    "name": "ipython",
    "version": 3
   },
   "file_extension": ".py",
   "mimetype": "text/x-python",
   "name": "python",
   "nbconvert_exporter": "python",
   "pygments_lexer": "ipython3",
   "version": "3.6.4"
  }
 },
 "nbformat": 4,
 "nbformat_minor": 2
}
